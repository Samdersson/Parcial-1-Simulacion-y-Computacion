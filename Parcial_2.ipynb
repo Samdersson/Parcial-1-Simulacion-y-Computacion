{
  "nbformat": 4,
  "nbformat_minor": 0,
  "metadata": {
    "colab": {
      "provenance": [],
      "gpuType": "V28",
      "authorship_tag": "ABX9TyMFxVF+MwMqYBTRhCzV2mld",
      "include_colab_link": true
    },
    "kernelspec": {
      "name": "python3",
      "display_name": "Python 3"
    },
    "language_info": {
      "name": "python"
    },
    "accelerator": "TPU"
  },
  "cells": [
    {
      "cell_type": "markdown",
      "metadata": {
        "id": "view-in-github",
        "colab_type": "text"
      },
      "source": [
        "<a href=\"https://colab.research.google.com/github/Samdersson/Parcial-1-Simulacion-y-Computacion/blob/main/Parcial_2.ipynb\" target=\"_parent\"><img src=\"https://colab.research.google.com/assets/colab-badge.svg\" alt=\"Open In Colab\"/></a>"
      ]
    },
    {
      "cell_type": "code",
      "execution_count": 1,
      "metadata": {
        "id": "A2l9DhBem8CC"
      },
      "outputs": [],
      "source": [
        "import torch\n",
        "import torch.nn as nn\n",
        "import torch.optim as optim\n",
        "import matplotlib.pyplot as plt\n",
        "\n",
        "#se define el modelo\n",
        "class simpleNN(nn.Module):\n",
        "    def __init__(self):\n",
        "        super(simpleNN, self).__init__()\n",
        "        self.fc1 = nn.Linear(784, 128)\n",
        "        self.fc2 = nn.Linear(128, 10)\n",
        "\n",
        "    def forward(self, x):\n",
        "        x = torch.relu(self.fc1(x))\n",
        "        x = self.fc2(x)\n",
        "        return x"
      ]
    },
    {
      "cell_type": "code",
      "source": [
        "#inicializae el modelo, criterio y optimizador\n",
        "model = simpleNN()\n",
        "criterion = nn.CrossEntropyLoss()\n",
        "optimizer = optim.Adam(model.parameters(), lr=0.001)"
      ],
      "metadata": {
        "id": "_zm2DtHPung3"
      },
      "execution_count": 2,
      "outputs": []
    },
    {
      "cell_type": "code",
      "source": [
        "#crear datos de entrenamiento aleatorios\n",
        "train_data = torch.randn(1000, 784)\n",
        "train_labels = torch.randint(0, 10, (1000,))"
      ],
      "metadata": {
        "id": "DFACf2LKu0nS"
      },
      "execution_count": 3,
      "outputs": []
    },
    {
      "cell_type": "markdown",
      "source": [
        "#Paso 4"
      ],
      "metadata": {
        "id": "dsPxbAgGvCWZ"
      }
    },
    {
      "source": [
        "#listas para almacenar la perdida\n",
        "losses = []\n",
        "\n",
        "#entrenamiento del modelo\n",
        "for epoch in range(10):\n",
        "    optimizer.zero_grad()\n",
        "    outputs = model(train_data) # Use train_data instead of X_train\n",
        "    loss = criterion(outputs, train_labels) # Use train_labels instead of y_train\n",
        "    losses.append(loss.item())\n",
        "    loss.backward()\n",
        "    optimizer.step()\n",
        "\n",
        "#visualizacion de la perdida\n",
        "plt.plot(losses)\n",
        "plt.title('perdida durante el entrenamiento')\n",
        "plt.xlabel('epoca')\n",
        "plt.ylabel('perdida')\n",
        "plt.show()"
      ],
      "cell_type": "code",
      "metadata": {
        "colab": {
          "base_uri": "https://localhost:8080/",
          "height": 472
        },
        "id": "BdZ20VMZwivp",
        "outputId": "6930c1fb-cc0f-4bf4-a10f-221650fd8700"
      },
      "execution_count": 5,
      "outputs": [
        {
          "output_type": "display_data",
          "data": {
            "text/plain": [
              "<Figure size 640x480 with 1 Axes>"
            ],
            "image/png": "[encoded data removed]"
          },
          "metadata": {}
        }
      ]
    },
    {
      "cell_type": "markdown",
      "source": [
        "#Ejercicio 2"
      ],
      "metadata": {
        "id": "SMS7dkBjxjnq"
      }
    },
    {
      "cell_type": "code",
      "source": [
        "import tensorflow as tf\n",
        "import numpy as np"
      ],
      "metadata": {
        "id": "qcGVW5zsxlk2"
      },
      "execution_count": 6,
      "outputs": []
    },
    {
      "cell_type": "markdown",
      "source": [
        "#paso 2"
      ],
      "metadata": {
        "id": "kFDGyNW4zfq4"
      }
    },
    {
      "cell_type": "code",
      "source": [
        "model = tf.keras.Sequential([\n",
        "    tf.keras.layers.Dense(64, activation='relu', input_shape=(784,)),\n",
        "    tf.keras.layers.Dense(64, activation='relu'),\n",
        "    tf.keras.layers.Dense(10, activation='softmax')\n",
        "])"
      ],
      "metadata": {
        "id": "z-5B91ZBzrmD"
      },
      "execution_count": 7,
      "outputs": []
    },
    {
      "cell_type": "markdown",
      "source": [
        "#paso 3"
      ],
      "metadata": {
        "id": "Ad-qXsCO0X6w"
      }
    },
    {
      "cell_type": "code",
      "source": [
        "model.compile(optimizer='adam', loss='sparse_categorical_crossentropy', metrics=['accuracy'])"
      ],
      "metadata": {
        "id": "Ot297kpQ0ZdH"
      },
      "execution_count": 8,
      "outputs": []
    },
    {
      "cell_type": "markdown",
      "source": [
        "#paso 4"
      ],
      "metadata": {
        "id": "ZVr0_CPX0f0O"
      }
    },
    {
      "cell_type": "code",
      "source": [
        "(x_train, y_train), (x_test, y_test) = tf.keras.datasets.mnist.load_data()\n",
        "x_train = x_train.reshape(-1, 784) / 255.0\n",
        "x_test = x_test.reshape(-1, 784) / 255.0"
      ],
      "metadata": {
        "colab": {
          "base_uri": "https://localhost:8080/"
        },
        "id": "ooD5O84Y0hGo",
        "outputId": "f9a53677-586c-4c52-dfc7-7ba48e41a14e"
      },
      "execution_count": 9,
      "outputs": [
        {
          "output_type": "stream",
          "name": "stdout",
          "text": [
            "Downloading data from https://storage.googleapis.com/tensorflow/tf-keras-datasets/mnist.npz\n",
            "11490434/11490434 [==============================] - 0s 0us/step\n"
          ]
        }
      ]
    },
    {
      "cell_type": "markdown",
      "source": [
        "#paso 5"
      ],
      "metadata": {
        "id": "1fAZJyuw01zZ"
      }
    },
    {
      "cell_type": "code",
      "source": [
        "model.fit(x_train, y_train, epochs=10, batch_size=32, validation_data=(x_test, y_test))"
      ],
      "metadata": {
        "colab": {
          "base_uri": "https://localhost:8080/"
        },
        "id": "V8R4j8dE04bI",
        "outputId": "8f01f5cb-f557-4238-d06a-57b4f2c2a195"
      },
      "execution_count": 10,
      "outputs": [
        {
          "output_type": "stream",
          "name": "stdout",
          "text": [
            "Epoch 1/10\n",
            "1875/1875 [==============================] - 6s 3ms/step - loss: 0.2784 - accuracy: 0.9203 - val_loss: 0.1552 - val_accuracy: 0.9533\n",
            "Epoch 2/10\n",
            "1875/1875 [==============================] - 4s 2ms/step - loss: 0.1269 - accuracy: 0.9624 - val_loss: 0.1138 - val_accuracy: 0.9656\n",
            "Epoch 3/10\n",
            "1875/1875 [==============================] - 4s 2ms/step - loss: 0.0906 - accuracy: 0.9727 - val_loss: 0.1043 - val_accuracy: 0.9697\n",
            "Epoch 4/10\n",
            "1875/1875 [==============================] - 5s 2ms/step - loss: 0.0725 - accuracy: 0.9772 - val_loss: 0.0943 - val_accuracy: 0.9711\n",
            "Epoch 5/10\n",
            "1875/1875 [==============================] - 5s 2ms/step - loss: 0.0580 - accuracy: 0.9817 - val_loss: 0.0942 - val_accuracy: 0.9708\n",
            "Epoch 6/10\n",
            "1875/1875 [==============================] - 4s 2ms/step - loss: 0.0507 - accuracy: 0.9838 - val_loss: 0.0923 - val_accuracy: 0.9735\n",
            "Epoch 7/10\n",
            "1875/1875 [==============================] - 5s 2ms/step - loss: 0.0434 - accuracy: 0.9861 - val_loss: 0.0950 - val_accuracy: 0.9735\n",
            "Epoch 8/10\n",
            "1875/1875 [==============================] - 5s 2ms/step - loss: 0.0366 - accuracy: 0.9878 - val_loss: 0.0955 - val_accuracy: 0.9750\n",
            "Epoch 9/10\n",
            "1875/1875 [==============================] - 5s 2ms/step - loss: 0.0322 - accuracy: 0.9892 - val_loss: 0.1072 - val_accuracy: 0.9740\n",
            "Epoch 10/10\n",
            "1875/1875 [==============================] - 5s 2ms/step - loss: 0.0283 - accuracy: 0.9909 - val_loss: 0.1039 - val_accuracy: 0.9720\n"
          ]
        },
        {
          "output_type": "execute_result",
          "data": {
            "text/plain": [
              "<keras.src.callbacks.History at 0x7b17400d0bb0>"
            ]
          },
          "metadata": {},
          "execution_count": 10
        }
      ]
    },
    {
      "cell_type": "markdown",
      "source": [
        "#Paso 6"
      ],
      "metadata": {
        "id": "y4w3Nhls1BYu"
      }
    },
    {
      "cell_type": "code",
      "source": [
        "model.evaluate(x_test, y_test)"
      ],
      "metadata": {
        "colab": {
          "base_uri": "https://localhost:8080/"
        },
        "id": "cP3jzpkC1Cly",
        "outputId": "3b9b9664-ff89-4b0b-cec2-a3eb9dd86c4f"
      },
      "execution_count": 11,
      "outputs": [
        {
          "output_type": "stream",
          "name": "stdout",
          "text": [
            "313/313 [==============================] - 0s 2ms/step - loss: 0.1039 - accuracy: 0.9720\n"
          ]
        },
        {
          "output_type": "execute_result",
          "data": {
            "text/plain": [
              "[0.10392091423273087, 0.972000002861023]"
            ]
          },
          "metadata": {},
          "execution_count": 11
        }
      ]
    },
    {
      "cell_type": "markdown",
      "source": [],
      "metadata": {
        "id": "zPCxFJFt1Njs"
      }
    },
    {
      "cell_type": "markdown",
      "source": [
        "#Ejercico 3"
      ],
      "metadata": {
        "id": "KlVXJpRK1Ntv"
      }
    },
    {
      "cell_type": "markdown",
      "source": [],
      "metadata": {
        "id": "EmYdX3QN1QQz"
      }
    },
    {
      "cell_type": "code",
      "source": [
        "# Paso 1: Importar TensorFlow y NumPy\n",
        "import tensorflow as tf\n",
        "import numpy as np\n",
        "\n",
        "# Paso 2: Generar datos de ejemplo para clasificación binaria\n",
        "np.random.seed(42)\n",
        "X = np.random.randn(1000, 20)\n",
        "y = np.where(np.sum(X, axis=1) > 10, 1, 0)\n",
        "\n",
        "# Paso 3: Definir la red de una sola capa\n",
        "model = tf.keras.Sequential([\n",
        "    tf.keras.layers.Dense(1, activation='sigmoid', input_shape=(20,))  # Capa única con activación sigmoide\n",
        "])\n",
        "\n",
        "# Paso 4: Compilar el modelo\n",
        "model.compile(optimizer='adam',\n",
        "              loss='binary_crossentropy',\n",
        "              metrics=['accuracy'])\n",
        "\n",
        "# Paso 5: Entrenar el modelo\n",
        "model.fit(X, y, epochs=10)\n",
        "\n",
        "# Paso 6: Evaluar el modelo\n",
        "loss, accuracy = model.evaluate(X, y)\n",
        "print(f'Precisión del modelo: {accuracy}')"
      ],
      "metadata": {
        "colab": {
          "base_uri": "https://localhost:8080/"
        },
        "id": "g7IDYlOO1RJs",
        "outputId": "83a32395-e758-4abb-c9b2-1d09b43bb730"
      },
      "execution_count": 12,
      "outputs": [
        {
          "output_type": "stream",
          "name": "stdout",
          "text": [
            "Epoch 1/10\n",
            "32/32 [==============================] - 0s 2ms/step - loss: 0.9003 - accuracy: 0.5050\n",
            "Epoch 2/10\n",
            "32/32 [==============================] - 0s 1ms/step - loss: 0.8682 - accuracy: 0.5180\n",
            "Epoch 3/10\n",
            "32/32 [==============================] - 0s 2ms/step - loss: 0.8372 - accuracy: 0.5260\n",
            "Epoch 4/10\n",
            "32/32 [==============================] - 0s 2ms/step - loss: 0.8077 - accuracy: 0.5370\n",
            "Epoch 5/10\n",
            "32/32 [==============================] - 0s 2ms/step - loss: 0.7787 - accuracy: 0.5490\n",
            "Epoch 6/10\n",
            "32/32 [==============================] - 0s 2ms/step - loss: 0.7512 - accuracy: 0.5580\n",
            "Epoch 7/10\n",
            "32/32 [==============================] - 0s 2ms/step - loss: 0.7247 - accuracy: 0.5730\n",
            "Epoch 8/10\n",
            "32/32 [==============================] - 0s 2ms/step - loss: 0.6990 - accuracy: 0.5930\n",
            "Epoch 9/10\n",
            "32/32 [==============================] - 0s 2ms/step - loss: 0.6746 - accuracy: 0.6080\n",
            "Epoch 10/10\n",
            "32/32 [==============================] - 0s 2ms/step - loss: 0.6510 - accuracy: 0.6300\n",
            "32/32 [==============================] - 0s 1ms/step - loss: 0.6385 - accuracy: 0.6400\n",
            "Precisión del modelo: 0.6399999856948853\n"
          ]
        }
      ]
    }
  ]
}